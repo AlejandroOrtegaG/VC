{
 "cells": [
  {
   "cell_type": "markdown",
   "id": "c6fd4a50",
   "metadata": {},
   "source": [
    "# Process image folder"
   ]
  },
  {
   "cell_type": "code",
   "execution_count": null,
   "id": "frank-length",
   "metadata": {},
   "outputs": [],
   "source": [
    "import os\n",
    "import cv2\n",
    "from deepface import DeepFace\n",
    "\n",
    "folder = './faces'\n",
    "\n",
    "print(folder)\n",
    "\n",
    "for file_name in os.listdir(folder):\n",
    "    # Asume imágenes en formato png o jpg\n",
    "    if file_name.endswith('.png') or file_name.endswith('.jpg'):\n",
    "        # Procesa la imagen que asume hay cara, no fuerza la detección\n",
    "        obj = DeepFace.analyze(img_path = os.path.join(folder, file_name), enforce_detection=False, actions =['age', 'gender', 'race', 'emotion'])\n",
    "        print(file_name)\n",
    "        print(obj)\n",
    "        #print(obj[\"region\"])\n",
    "        #print(obj[\"age\"])      \n",
    "        #print(obj[\"gender\"])      \n",
    "        #print(obj[\"race\"])       \n",
    "        #print(obj[\"dominant_race\"]) \n",
    "        #print(obj[\"emotion\"])\n",
    "        #print(obj[\"dominant_emotion\"])\n",
    "       \n",
    "        \n"
   ]
  },
  {
   "attachments": {},
   "cell_type": "markdown",
   "id": "643c68d5",
   "metadata": {},
   "source": [
    "# Process from webcam"
   ]
  },
  {
   "cell_type": "code",
   "execution_count": 2,
   "id": "6b1843aa",
   "metadata": {},
   "outputs": [
    {
     "name": "stderr",
     "output_type": "stream",
     "text": [
      "2023-12-06 20:11:13.228664: I external/local_xla/xla/stream_executor/cuda/cuda_executor.cc:901] successful NUMA node read from SysFS had negative value (-1), but there must be at least one NUMA node, so returning NUMA node zero. See more at https://github.com/torvalds/linux/blob/v6.0/Documentation/ABI/testing/sysfs-bus-pci#L344-L355\n",
      "2023-12-06 20:11:13.229719: W tensorflow/core/common_runtime/gpu/gpu_device.cc:2256] Cannot dlopen some GPU libraries. Please make sure the missing libraries mentioned above are installed properly if you would like to use GPU. Follow the guide at https://www.tensorflow.org/install/gpu for how to download and setup the required libraries for your platform.\n",
      "Skipping registering GPU devices...\n",
      "2023-12-06 20:11:14.131850: W external/local_tsl/tsl/framework/cpu_allocator_impl.cc:83] Allocation of 411041792 exceeds 10% of free system memory.\n",
      "2023-12-06 20:11:14.583042: W external/local_tsl/tsl/framework/cpu_allocator_impl.cc:83] Allocation of 411041792 exceeds 10% of free system memory.\n",
      "2023-12-06 20:11:14.910044: W external/local_tsl/tsl/framework/cpu_allocator_impl.cc:83] Allocation of 411041792 exceeds 10% of free system memory.\n",
      "2023-12-06 20:11:15.842204: W external/local_tsl/tsl/framework/cpu_allocator_impl.cc:83] Allocation of 67108864 exceeds 10% of free system memory.\n",
      "2023-12-06 20:11:15.898139: W external/local_tsl/tsl/framework/cpu_allocator_impl.cc:83] Allocation of 67108864 exceeds 10% of free system memory.\n",
      "Action: emotion: 100%|██████████| 2/2 [00:01<00:00,  1.00it/s]\n",
      "Qt: Session management error: Could not open network socket\n"
     ]
    },
    {
     "name": "stdout",
     "output_type": "stream",
     "text": [
      "[{'gender': {'Woman': 39.72950875759125, 'Man': 60.27049422264099}, 'dominant_gender': 'Man', 'region': {'x': 0, 'y': 0, 'w': 640, 'h': 480}, 'emotion': {'angry': 73.7567098430741, 'disgust': 7.194200998848543e-06, 'fear': 0.016735292780569313, 'happy': 1.3111264744548232, 'sad': 5.292158315520488, 'surprise': 0.37923271437940426, 'neutral': 19.24402633380576}, 'dominant_emotion': 'angry'}]\n"
     ]
    },
    {
     "name": "stderr",
     "output_type": "stream",
     "text": [
      "Action: emotion: 100%|██████████| 2/2 [00:00<00:00,  2.54it/s]\n"
     ]
    },
    {
     "name": "stdout",
     "output_type": "stream",
     "text": [
      "[{'gender': {'Woman': 39.80438411235809, 'Man': 60.19561290740967}, 'dominant_gender': 'Man', 'region': {'x': 0, 'y': 0, 'w': 640, 'h': 480}, 'emotion': {'angry': 72.99826419332793, 'disgust': 7.168201110107889e-06, 'fear': 0.017881290790443514, 'happy': 1.3487088239143876, 'sad': 5.532868121012226, 'surprise': 0.3279509879441247, 'neutral': 19.774318608560396}, 'dominant_emotion': 'angry'}]\n"
     ]
    },
    {
     "name": "stderr",
     "output_type": "stream",
     "text": [
      "Action: emotion: 100%|██████████| 2/2 [00:00<00:00,  2.29it/s]\n"
     ]
    },
    {
     "name": "stdout",
     "output_type": "stream",
     "text": [
      "[{'gender': {'Woman': 39.34287428855896, 'Man': 60.65711975097656}, 'dominant_gender': 'Man', 'region': {'x': 0, 'y': 0, 'w': 640, 'h': 480}, 'emotion': {'angry': 70.8678662776947, 'disgust': 1.6169290972811723e-05, 'fear': 0.031937300809659064, 'happy': 1.537243090569973, 'sad': 6.196768954396248, 'surprise': 0.42924010194838047, 'neutral': 20.93692421913147}, 'dominant_emotion': 'angry'}]\n"
     ]
    },
    {
     "name": "stderr",
     "output_type": "stream",
     "text": [
      "Action: emotion: 100%|██████████| 2/2 [00:00<00:00,  2.42it/s]\n"
     ]
    },
    {
     "name": "stdout",
     "output_type": "stream",
     "text": [
      "[{'gender': {'Woman': 36.55959367752075, 'Man': 63.44040632247925}, 'dominant_gender': 'Man', 'region': {'x': 0, 'y': 0, 'w': 640, 'h': 480}, 'emotion': {'angry': 34.00726521058471, 'disgust': 1.1798677227932886e-05, 'fear': 0.41723868502609046, 'happy': 0.16732233176811526, 'sad': 30.098818546463164, 'surprise': 0.0431842632953011, 'neutral': 35.266163066992945}, 'dominant_emotion': 'neutral'}]\n"
     ]
    },
    {
     "name": "stderr",
     "output_type": "stream",
     "text": [
      "Action: emotion: 100%|██████████| 2/2 [00:00<00:00,  2.70it/s]\n"
     ]
    },
    {
     "name": "stdout",
     "output_type": "stream",
     "text": [
      "[{'gender': {'Woman': 33.746543526649475, 'Man': 66.25345349311829}, 'dominant_gender': 'Man', 'region': {'x': 0, 'y': 0, 'w': 640, 'h': 480}, 'emotion': {'angry': 8.1562839448452, 'disgust': 3.6189593544122545e-06, 'fear': 1.53398672118783, 'happy': 0.017385366663802415, 'sad': 59.50855612754822, 'surprise': 0.03311244654469192, 'neutral': 30.75067400932312}, 'dominant_emotion': 'sad'}]\n"
     ]
    },
    {
     "name": "stderr",
     "output_type": "stream",
     "text": [
      "Action: emotion: 100%|██████████| 2/2 [00:00<00:00,  2.43it/s]\n"
     ]
    },
    {
     "name": "stdout",
     "output_type": "stream",
     "text": [
      "[{'gender': {'Woman': 0.056723866146057844, 'Man': 99.94327425956726}, 'dominant_gender': 'Man', 'region': {'x': 312, 'y': 192, 'w': 116, 'h': 116}, 'emotion': {'angry': 0.053723607853344554, 'disgust': 6.724146085490372e-08, 'fear': 0.8696296770649956, 'happy': 0.00015189639039334165, 'sad': 98.88151877412312, 'surprise': 2.6571244567433573e-05, 'neutral': 0.19495415033499303}, 'dominant_emotion': 'sad'}]\n"
     ]
    },
    {
     "name": "stderr",
     "output_type": "stream",
     "text": [
      "Action: emotion: 100%|██████████| 2/2 [00:00<00:00,  2.37it/s]\n"
     ]
    },
    {
     "name": "stdout",
     "output_type": "stream",
     "text": [
      "[{'gender': {'Woman': 0.2384945983067155, 'Man': 99.7615098953247}, 'dominant_gender': 'Man', 'region': {'x': 272, 'y': 182, 'w': 137, 'h': 137}, 'emotion': {'angry': 27.544331550598145, 'disgust': 0.0006553130333486479, 'fear': 2.4158064275979996, 'happy': 0.0866661372128874, 'sad': 30.302757024765015, 'surprise': 0.0009936956303135958, 'neutral': 39.648789167404175}, 'dominant_emotion': 'neutral'}]\n"
     ]
    },
    {
     "name": "stderr",
     "output_type": "stream",
     "text": [
      "Action: emotion: 100%|██████████| 2/2 [00:01<00:00,  1.88it/s]\n"
     ]
    },
    {
     "name": "stdout",
     "output_type": "stream",
     "text": [
      "[{'gender': {'Woman': 0.38786097429692745, 'Man': 99.6121346950531}, 'dominant_gender': 'Man', 'region': {'x': 263, 'y': 183, 'w': 141, 'h': 141}, 'emotion': {'angry': 19.62648992222668, 'disgust': 6.9228873929690085e-06, 'fear': 0.5271298648113173, 'happy': 0.46959034157212476, 'sad': 13.333484431089827, 'surprise': 0.001037247479003689, 'neutral': 66.04226040336366}, 'dominant_emotion': 'neutral'}]\n"
     ]
    },
    {
     "name": "stderr",
     "output_type": "stream",
     "text": [
      "Action: emotion: 100%|██████████| 2/2 [00:01<00:00,  1.79it/s]\n"
     ]
    },
    {
     "name": "stdout",
     "output_type": "stream",
     "text": [
      "[{'gender': {'Woman': 0.5680803675204515, 'Man': 99.43192601203918}, 'dominant_gender': 'Man', 'region': {'x': 263, 'y': 183, 'w': 142, 'h': 142}, 'emotion': {'angry': 17.77582125519641, 'disgust': 0.00024852221603137144, 'fear': 0.43282632501878293, 'happy': 0.13560709420484865, 'sad': 32.67944351908228, 'surprise': 0.00018701546173928847, 'neutral': 48.97586995219409}, 'dominant_emotion': 'neutral'}]\n"
     ]
    },
    {
     "name": "stderr",
     "output_type": "stream",
     "text": [
      "Action: emotion: 100%|██████████| 2/2 [00:00<00:00,  2.09it/s]\n"
     ]
    },
    {
     "name": "stdout",
     "output_type": "stream",
     "text": [
      "[{'gender': {'Woman': 0.48696352168917656, 'Man': 99.51304197311401}, 'dominant_gender': 'Man', 'region': {'x': 264, 'y': 183, 'w': 141, 'h': 141}, 'emotion': {'angry': 10.583530366420746, 'disgust': 0.00030977978440205334, 'fear': 0.44336793944239616, 'happy': 0.07195717189460993, 'sad': 25.97944736480713, 'surprise': 0.0001377831495119608, 'neutral': 62.921249866485596}, 'dominant_emotion': 'neutral'}]\n"
     ]
    },
    {
     "name": "stderr",
     "output_type": "stream",
     "text": [
      "Action: emotion: 100%|██████████| 2/2 [00:00<00:00,  2.46it/s]\n"
     ]
    },
    {
     "name": "stdout",
     "output_type": "stream",
     "text": [
      "[{'gender': {'Woman': 1.0400940664112568, 'Man': 98.95991086959839}, 'dominant_gender': 'Man', 'region': {'x': 263, 'y': 183, 'w': 142, 'h': 142}, 'emotion': {'angry': 43.81299018859863, 'disgust': 0.0031617979402653873, 'fear': 0.504404166713357, 'happy': 0.1909317565150559, 'sad': 35.547930002212524, 'surprise': 0.0003085468051722273, 'neutral': 19.940270483493805}, 'dominant_emotion': 'angry'}]\n"
     ]
    },
    {
     "name": "stderr",
     "output_type": "stream",
     "text": [
      "Action: emotion: 100%|██████████| 2/2 [00:00<00:00,  2.46it/s]\n"
     ]
    },
    {
     "name": "stdout",
     "output_type": "stream",
     "text": [
      "[{'gender': {'Woman': 0.3360670991241932, 'Man': 99.66393709182739}, 'dominant_gender': 'Man', 'region': {'x': 265, 'y': 183, 'w': 140, 'h': 140}, 'emotion': {'angry': 22.88424360062144, 'disgust': 0.0010435299085554798, 'fear': 1.0418956789014149, 'happy': 0.02403577525475027, 'sad': 65.91936146732338, 'surprise': 0.00011856523794475964, 'neutral': 10.129305579024885}, 'dominant_emotion': 'sad'}]\n"
     ]
    },
    {
     "name": "stderr",
     "output_type": "stream",
     "text": [
      "Action: emotion: 100%|██████████| 2/2 [00:01<00:00,  1.89it/s]\n"
     ]
    },
    {
     "name": "stdout",
     "output_type": "stream",
     "text": [
      "[{'gender': {'Woman': 0.7693492341786623, 'Man': 99.23065304756165}, 'dominant_gender': 'Man', 'region': {'x': 265, 'y': 183, 'w': 140, 'h': 140}, 'emotion': {'angry': 24.677960574626923, 'disgust': 0.0008323959264089353, 'fear': 1.3874130323529243, 'happy': 0.057352479780092835, 'sad': 39.24264311790466, 'surprise': 0.00019096564756182488, 'neutral': 34.633609652519226}, 'dominant_emotion': 'sad'}]\n"
     ]
    },
    {
     "name": "stderr",
     "output_type": "stream",
     "text": [
      "Action: emotion: 100%|██████████| 2/2 [00:00<00:00,  2.09it/s]\n"
     ]
    },
    {
     "name": "stdout",
     "output_type": "stream",
     "text": [
      "[{'gender': {'Woman': 1.0047311894595623, 'Man': 98.99527430534363}, 'dominant_gender': 'Man', 'region': {'x': 257, 'y': 175, 'w': 142, 'h': 142}, 'emotion': {'angry': 67.10743700177228, 'disgust': 0.0007693401122751791, 'fear': 1.7104668366352513, 'happy': 0.05203531434711047, 'sad': 27.204656338136633, 'surprise': 0.002643813835193244, 'neutral': 3.921982550980741}, 'dominant_emotion': 'angry'}]\n"
     ]
    },
    {
     "name": "stderr",
     "output_type": "stream",
     "text": [
      "Action: emotion: 100%|██████████| 2/2 [00:00<00:00,  2.95it/s]\n"
     ]
    },
    {
     "name": "stdout",
     "output_type": "stream",
     "text": [
      "[{'gender': {'Woman': 3.495274856686592, 'Man': 96.5047299861908}, 'dominant_gender': 'Man', 'region': {'x': 216, 'y': 166, 'w': 156, 'h': 156}, 'emotion': {'angry': 0.0013182751237864458, 'disgust': 5.649926519239745e-07, 'fear': 99.57742100031126, 'happy': 0.044712573198406616, 'sad': 0.06321529337059935, 'surprise': 0.29950699458187885, 'neutral': 0.013816506351798015}, 'dominant_emotion': 'fear'}]\n"
     ]
    },
    {
     "name": "stderr",
     "output_type": "stream",
     "text": [
      "Action: emotion: 100%|██████████| 2/2 [00:00<00:00,  2.83it/s]\n"
     ]
    },
    {
     "name": "stdout",
     "output_type": "stream",
     "text": [
      "[{'gender': {'Woman': 0.4051662515848875, 'Man': 99.59483742713928}, 'dominant_gender': 'Man', 'region': {'x': 294, 'y': 167, 'w': 137, 'h': 137}, 'emotion': {'angry': 0.550967296097601, 'disgust': 3.1691327736693245e-05, 'fear': 0.021652569159372848, 'happy': 71.15530715521489, 'sad': 24.155031245347114, 'surprise': 0.0005471570860054512, 'neutral': 4.116457582538416}, 'dominant_emotion': 'happy'}]\n"
     ]
    },
    {
     "name": "stderr",
     "output_type": "stream",
     "text": [
      "Action: emotion: 100%|██████████| 2/2 [00:00<00:00,  2.86it/s]\n"
     ]
    },
    {
     "name": "stdout",
     "output_type": "stream",
     "text": [
      "[{'gender': {'Woman': 0.22397562861442566, 'Man': 99.77601766586304}, 'dominant_gender': 'Man', 'region': {'x': 270, 'y': 172, 'w': 135, 'h': 135}, 'emotion': {'angry': 0.004437079240618141, 'disgust': 7.790320237256159e-08, 'fear': 5.518359582035894e-05, 'happy': 98.32392354918437, 'sad': 0.05203956932661601, 'surprise': 0.0002851229625124352, 'neutral': 1.619254790931369}, 'dominant_emotion': 'happy'}]\n"
     ]
    },
    {
     "name": "stderr",
     "output_type": "stream",
     "text": [
      "Action: emotion: 100%|██████████| 2/2 [00:00<00:00,  2.60it/s]\n"
     ]
    },
    {
     "name": "stdout",
     "output_type": "stream",
     "text": [
      "[{'gender': {'Woman': 0.29797800816595554, 'Man': 99.70201849937439}, 'dominant_gender': 'Man', 'region': {'x': 268, 'y': 175, 'w': 139, 'h': 139}, 'emotion': {'angry': 0.023734284413057933, 'disgust': 6.150336395297116e-06, 'fear': 0.04763976917798589, 'happy': 98.2496382892563, 'sad': 0.1667256501122534, 'surprise': 0.0056235327637407986, 'neutral': 1.506632945640928}, 'dominant_emotion': 'happy'}]\n"
     ]
    },
    {
     "name": "stderr",
     "output_type": "stream",
     "text": [
      "Action: emotion: 100%|██████████| 2/2 [00:00<00:00,  2.40it/s]\n"
     ]
    },
    {
     "name": "stdout",
     "output_type": "stream",
     "text": [
      "[{'gender': {'Woman': 1.1959723196923733, 'Man': 98.80402684211731}, 'dominant_gender': 'Man', 'region': {'x': 242, 'y': 178, 'w': 146, 'h': 146}, 'emotion': {'angry': 7.21614882349968, 'disgust': 5.360017780731141e-05, 'fear': 0.10075460886582732, 'happy': 14.850698411464691, 'sad': 11.259760707616806, 'surprise': 0.0018186505258199759, 'neutral': 66.57076478004456}, 'dominant_emotion': 'neutral'}]\n"
     ]
    },
    {
     "name": "stderr",
     "output_type": "stream",
     "text": [
      "Action: emotion: 100%|██████████| 2/2 [00:00<00:00,  2.53it/s]\n"
     ]
    },
    {
     "name": "stdout",
     "output_type": "stream",
     "text": [
      "[{'gender': {'Woman': 1.37720238417387, 'Man': 98.62280488014221}, 'dominant_gender': 'Man', 'region': {'x': 237, 'y': 179, 'w': 148, 'h': 148}, 'emotion': {'angry': 6.943189352750778, 'disgust': 0.0002334882765353541, 'fear': 0.17504016868770123, 'happy': 1.513611152768135, 'sad': 13.390228152275085, 'surprise': 0.002081820639432408, 'neutral': 77.97561287879944}, 'dominant_emotion': 'neutral'}]\n"
     ]
    },
    {
     "name": "stderr",
     "output_type": "stream",
     "text": [
      "Action: emotion: 100%|██████████| 2/2 [00:00<00:00,  2.68it/s]\n"
     ]
    },
    {
     "name": "stdout",
     "output_type": "stream",
     "text": [
      "[{'gender': {'Woman': 1.3779868371784687, 'Man': 98.6220121383667}, 'dominant_gender': 'Man', 'region': {'x': 240, 'y': 179, 'w': 147, 'h': 147}, 'emotion': {'angry': 0.006847956594742421, 'disgust': 8.055585744057921e-05, 'fear': 0.003964355237607406, 'happy': 98.0157794933582, 'sad': 0.36283915728012833, 'surprise': 0.007057326615706266, 'neutral': 1.6034271519270955}, 'dominant_emotion': 'happy'}]\n"
     ]
    },
    {
     "name": "stderr",
     "output_type": "stream",
     "text": [
      "Action: emotion: 100%|██████████| 2/2 [00:00<00:00,  2.61it/s]\n"
     ]
    },
    {
     "name": "stdout",
     "output_type": "stream",
     "text": [
      "[{'gender': {'Woman': 1.3137099333107471, 'Man': 98.68628978729248}, 'dominant_gender': 'Man', 'region': {'x': 244, 'y': 177, 'w': 142, 'h': 142}, 'emotion': {'angry': 4.735163927627184e-08, 'disgust': 2.7374475841494827e-11, 'fear': 4.0732657247133375e-07, 'happy': 99.9975323677063, 'sad': 0.00010105966339324368, 'surprise': 2.1473692868312355e-05, 'neutral': 0.002348115958739072}, 'dominant_emotion': 'happy'}]\n"
     ]
    },
    {
     "name": "stderr",
     "output_type": "stream",
     "text": [
      "Action: emotion: 100%|██████████| 2/2 [00:00<00:00,  3.07it/s]\n"
     ]
    },
    {
     "name": "stdout",
     "output_type": "stream",
     "text": [
      "[{'gender': {'Woman': 0.810727383941412, 'Man': 99.18926954269409}, 'dominant_gender': 'Man', 'region': {'x': 233, 'y': 185, 'w': 145, 'h': 145}, 'emotion': {'angry': 0.48353616148233414, 'disgust': 0.011320337216602638, 'fear': 0.06464640027843416, 'happy': 95.46445608139038, 'sad': 2.463803254067898, 'surprise': 0.023606009199284017, 'neutral': 1.488634292036295}, 'dominant_emotion': 'happy'}]\n"
     ]
    },
    {
     "name": "stderr",
     "output_type": "stream",
     "text": [
      "Action: emotion: 100%|██████████| 2/2 [00:00<00:00,  3.35it/s]\n"
     ]
    },
    {
     "name": "stdout",
     "output_type": "stream",
     "text": [
      "[{'gender': {'Woman': 2.601386047899723, 'Man': 97.39862084388733}, 'dominant_gender': 'Man', 'region': {'x': 233, 'y': 195, 'w': 145, 'h': 145}, 'emotion': {'angry': 10.150353470465747, 'disgust': 3.387278659620228e-07, 'fear': 0.05054658696519357, 'happy': 0.13501301514062375, 'sad': 83.8465263752059, 'surprise': 3.710192339122991e-05, 'neutral': 5.817528788300084}, 'dominant_emotion': 'sad'}]\n"
     ]
    },
    {
     "name": "stderr",
     "output_type": "stream",
     "text": [
      "Action: emotion: 100%|██████████| 2/2 [00:00<00:00,  3.12it/s]\n"
     ]
    },
    {
     "name": "stdout",
     "output_type": "stream",
     "text": [
      "[{'gender': {'Woman': 1.0748879052698612, 'Man': 98.92510771751404}, 'dominant_gender': 'Man', 'region': {'x': 233, 'y': 195, 'w': 145, 'h': 145}, 'emotion': {'angry': 86.34477013554039, 'disgust': 0.0025895450645523634, 'fear': 0.4207995075671984, 'happy': 0.010454693670432256, 'sad': 9.093769775707086, 'surprise': 9.115780055467699e-05, 'neutral': 4.127535589492725}, 'dominant_emotion': 'angry'}]\n"
     ]
    },
    {
     "name": "stderr",
     "output_type": "stream",
     "text": [
      "Action: emotion: 100%|██████████| 2/2 [00:00<00:00,  3.20it/s]\n"
     ]
    },
    {
     "name": "stdout",
     "output_type": "stream",
     "text": [
      "[{'gender': {'Woman': 0.7312114350497723, 'Man': 99.26879405975342}, 'dominant_gender': 'Man', 'region': {'x': 234, 'y': 196, 'w': 144, 'h': 144}, 'emotion': {'angry': 88.74256149023039, 'disgust': 1.5749054226253033e-05, 'fear': 0.3143315992928625, 'happy': 0.07082028634380862, 'sad': 4.7467773709562575, 'surprise': 4.1234182704423075e-05, 'neutral': 6.125444188661076}, 'dominant_emotion': 'angry'}]\n"
     ]
    },
    {
     "name": "stderr",
     "output_type": "stream",
     "text": [
      "Action: emotion: 100%|██████████| 2/2 [00:00<00:00,  3.17it/s]\n"
     ]
    },
    {
     "name": "stdout",
     "output_type": "stream",
     "text": [
      "[{'gender': {'Woman': 0.06961055914871395, 'Man': 99.9303936958313}, 'dominant_gender': 'Man', 'region': {'x': 283, 'y': 190, 'w': 127, 'h': 127}, 'emotion': {'angry': 1.5309876743547721, 'disgust': 6.587653038261287e-07, 'fear': 2.0326256100908284, 'happy': 0.009168530051164258, 'sad': 95.24840088179117, 'surprise': 6.55459299269915e-06, 'neutral': 1.1788130509145887}, 'dominant_emotion': 'sad'}]\n"
     ]
    },
    {
     "name": "stderr",
     "output_type": "stream",
     "text": [
      "Action: emotion: 100%|██████████| 2/2 [00:00<00:00,  2.99it/s]\n"
     ]
    },
    {
     "name": "stdout",
     "output_type": "stream",
     "text": [
      "[{'gender': {'Woman': 0.6818804889917374, 'Man': 99.31811690330505}, 'dominant_gender': 'Man', 'region': {'x': 262, 'y': 185, 'w': 142, 'h': 142}, 'emotion': {'angry': 35.535791516304016, 'disgust': 0.0004928483576804865, 'fear': 3.133254125714302, 'happy': 0.011146209726575762, 'sad': 44.66521441936493, 'surprise': 5.218556111685757e-05, 'neutral': 16.65404886007309}, 'dominant_emotion': 'sad'}]\n"
     ]
    },
    {
     "name": "stderr",
     "output_type": "stream",
     "text": [
      "Action: emotion: 100%|██████████| 2/2 [00:00<00:00,  3.01it/s]\n"
     ]
    },
    {
     "name": "stdout",
     "output_type": "stream",
     "text": [
      "[{'gender': {'Woman': 0.8873493410646915, 'Man': 99.11264777183533}, 'dominant_gender': 'Man', 'region': {'x': 252, 'y': 175, 'w': 147, 'h': 147}, 'emotion': {'angry': 30.610346794128418, 'disgust': 1.6933626056925277e-05, 'fear': 0.8827316574752331, 'happy': 0.0012062890164088458, 'sad': 28.462621569633484, 'surprise': 1.5928618779526005e-05, 'neutral': 40.04306197166443}, 'dominant_emotion': 'neutral'}]\n"
     ]
    },
    {
     "name": "stderr",
     "output_type": "stream",
     "text": [
      "Action: emotion: 100%|██████████| 2/2 [00:00<00:00,  3.51it/s]\n"
     ]
    },
    {
     "name": "stdout",
     "output_type": "stream",
     "text": [
      "[{'gender': {'Woman': 2.3842019960284233, 'Man': 97.61580228805542}, 'dominant_gender': 'Man', 'region': {'x': 256, 'y': 178, 'w': 148, 'h': 148}, 'emotion': {'angry': 46.684807538986206, 'disgust': 0.18667449476197362, 'fear': 3.425182029604912, 'happy': 0.9104493074119091, 'sad': 44.36790943145752, 'surprise': 0.054274959256872535, 'neutral': 4.3707069009542465}, 'dominant_emotion': 'angry'}]\n"
     ]
    },
    {
     "name": "stderr",
     "output_type": "stream",
     "text": [
      "Action: emotion: 100%|██████████| 2/2 [00:00<00:00,  3.67it/s]\n"
     ]
    },
    {
     "name": "stdout",
     "output_type": "stream",
     "text": [
      "[{'gender': {'Woman': 0.2499803202226758, 'Man': 99.75002408027649}, 'dominant_gender': 'Man', 'region': {'x': 257, 'y': 179, 'w': 143, 'h': 143}, 'emotion': {'angry': 22.287511825561523, 'disgust': 0.0007276627457031282, 'fear': 2.527986466884613, 'happy': 0.048308202531188726, 'sad': 28.12347710132599, 'surprise': 0.0004470631665753899, 'neutral': 47.011542320251465}, 'dominant_emotion': 'neutral'}]\n"
     ]
    },
    {
     "name": "stderr",
     "output_type": "stream",
     "text": [
      "Action: emotion: 100%|██████████| 2/2 [00:00<00:00,  3.28it/s]"
     ]
    },
    {
     "name": "stdout",
     "output_type": "stream",
     "text": [
      "[{'gender': {'Woman': 1.9903475418686867, 'Man': 98.00965189933777}, 'dominant_gender': 'Man', 'region': {'x': 298, 'y': 186, 'w': 160, 'h': 160}, 'emotion': {'angry': 34.91470993581892, 'disgust': 0.0009584817911398884, 'fear': 16.030664321104965, 'happy': 0.002268093615126812, 'sad': 43.38397760582237, 'surprise': 0.0027688131350133744, 'neutral': 5.664636637015744}, 'dominant_emotion': 'sad'}]\n"
     ]
    },
    {
     "name": "stderr",
     "output_type": "stream",
     "text": [
      "\n"
     ]
    }
   ],
   "source": [
    "import cv2\n",
    "import numpy as np\n",
    "from deepface import DeepFace\n",
    "#from playsound import playsound\n",
    "\n",
    "vid = cv2.VideoCapture(0)\n",
    "\n",
    "# font \n",
    "font = cv2.FONT_HERSHEY_SIMPLEX\n",
    "fontScale = 1\n",
    "color = (255, 0, 0) \n",
    "thickness = 2 \n",
    "pos = (50, 50)\n",
    "\n",
    "def blend(input_rgb, alpha, rgb, coord: (int, int)):\n",
    "    cut = input_rgb[coord[1]:coord[1]+rgb.shape[0], coord[0]:coord[0]+rgb.shape[1]].astype(float)\n",
    "\n",
    "    # Multiply the foreground with the alpha matte\n",
    "    rgb = cv2.multiply(alpha, rgb)\n",
    "    input_rgb = cv2.multiply(1.0 - alpha, cut)\n",
    "\n",
    "    # Add the masked foreground and background\n",
    "    input_rgb[coord[1]:coord[1]+rgb.shape[0], coord[0]:coord[0]+rgb.shape[1]] = cv2.add(rgb, cut).astype(\"uint8\")\n",
    "    return input_rgb\n",
    "\n",
    "def read_transparent_png(filename):\n",
    "    image_4channel = cv2.imread(filename, cv2.IMREAD_UNCHANGED)\n",
    "    alpha_channel = image_4channel[:,:,3].astype(float) / 255\n",
    "    rgb_channels = image_4channel[:,:,:3].astype(float)\n",
    "    return (alpha_channel, rgb_channels)\n",
    "\n",
    "balloons = read_transparent_png(\"assets/balloons.png\")\n",
    "confetti = read_transparent_png(\"assets/confetti.png\")\n",
    "rain = read_transparent_png(\"assets/rain.png\")\n",
    "sangre1 = read_transparent_png(\"assets/sangre1.png\")\n",
    "serious = read_transparent_png(\"assets/serious.png\")\n",
    "vignette = read_transparent_png(\"assets/vignette.png\")\n",
    "\n",
    "while(True):\n",
    "    # fotograma a fotograma\n",
    "    ret, frame = vid.read()\n",
    "  \n",
    "    if ret:  \n",
    "        obj = DeepFace.analyze(img_path = frame, enforce_detection=False, actions =['gender', 'emotion'])\n",
    "        print(obj)\n",
    "\n",
    "        # Primera cara\n",
    "        image = cv2.putText(frame, str(obj[0]['dominant_gender']+' '+obj[0]['dominant_emotion']), pos, font,  \n",
    "                        fontScale, color, thickness, cv2.LINE_AA) \n",
    "        \n",
    "        match obj[0]['dominant_emotion']: \n",
    "            case 'happy':\n",
    "\n",
    "                imghsv = cv2.cvtColor(image, cv2.COLOR_BGR2HSV).astype(\"float32\")\n",
    "\n",
    "                (h, s, v) = cv2.split(imghsv)\n",
    "                s = s*2\n",
    "                s = np.clip(s,0,255)\n",
    "                imghsv = cv2.merge([h,s,v])\n",
    "\n",
    "                frame = cv2.cvtColor(imghsv.astype(\"uint8\"), cv2.COLOR_HSV2BGR)\n",
    "            \n",
    "            case 'sad':\n",
    "                frame = cv2.cvtColor(frame, cv2.COLOR_BGR2GRAY)\n",
    "                \n",
    "            case 'angry':\n",
    "\n",
    "                frame = cv2.cvtColor(frame, cv2.COLOR_BGR2GRAY)\n",
    "                image = np.zeros((image.shape), dtype = np.uint8)\n",
    "                image[:,:,2] = frame\n",
    "                frame = image\n",
    "\n",
    "            case 'fear':\n",
    "                pass\n",
    "\n",
    "            case 'disgust':\n",
    "                frame = cv2.cvtColor(frame, cv2.COLOR_BGR2GRAY)\n",
    "                image = np.zeros((image.shape), dtype = np.uint8)\n",
    "                image[:,:,1] = frame\n",
    "                frame = image\n",
    "\n",
    "            case 'surprise':\n",
    "                pass\n",
    "\n",
    "            case 'neutral':\n",
    "                # playsound('./assets/sad_sound.mp3')\n",
    "\n",
    "                pass\n",
    "                \n",
    "            case _:\n",
    "                pass\n",
    "\n",
    "        # Muestra fotograma\n",
    "        cv2.imshow('Vid', frame)\n",
    "    \n",
    "    # Detenemos pulsado ESC\n",
    "    if cv2.waitKey(20) == 27:\n",
    "        break\n",
    "  \n",
    "# Libera el objeto de captura\n",
    "vid.release()\n",
    "# Destruye ventanas\n",
    "cv2.destroyAllWindows()"
   ]
  }
 ],
 "metadata": {
  "kernelspec": {
   "display_name": "Python 3.9.0 ('deepface')",
   "language": "python",
   "name": "python3"
  },
  "language_info": {
   "codemirror_mode": {
    "name": "ipython",
    "version": 3
   },
   "file_extension": ".py",
   "mimetype": "text/x-python",
   "name": "python",
   "nbconvert_exporter": "python",
   "pygments_lexer": "ipython3",
   "version": "3.11.5"
  },
  "vscode": {
   "interpreter": {
    "hash": "12028effb1af0cd2244438ff9b17d06bb1d7695ec7a554a144e43ec4b8b79006"
   }
  }
 },
 "nbformat": 4,
 "nbformat_minor": 5
}
