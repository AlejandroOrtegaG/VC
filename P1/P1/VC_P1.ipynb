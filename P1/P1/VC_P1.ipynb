{
 "cells": [
  {
   "cell_type": "markdown",
   "metadata": {},
   "source": [
    "Paquetes necesarios"
   ]
  },
  {
   "cell_type": "code",
   "execution_count": 5,
   "metadata": {},
   "outputs": [],
   "source": [
    "import cv2  \n",
    "import numpy as np\n",
    "import matplotlib.pyplot as plt"
   ]
  },
  {
   "cell_type": "markdown",
   "metadata": {},
   "source": [
    "Inicializaciones"
   ]
  },
  {
   "cell_type": "code",
   "execution_count": 6,
   "metadata": {},
   "outputs": [],
   "source": [
    "#Dimensiones de la imagen a crear\n",
    "ancho = 200\n",
    "alto = 300"
   ]
  },
  {
   "cell_type": "markdown",
   "metadata": {},
   "source": [
    "TAREA: Crea una imagen, p.e. 800x800, con la textura del tablero de ajedrez"
   ]
  },
  {
   "cell_type": "code",
   "execution_count": 3,
   "metadata": {},
   "outputs": [
    {
     "data": {
      "image/png": "[encoded data removed]",
      "text/plain": [
       "<Figure size 640x480 with 1 Axes>"
      ]
     },
     "metadata": {},
     "output_type": "display_data"
    }
   ],
   "source": [
    "\n",
    "#Establecemos un ancho y alto concreto para este ejercicio\n",
    "ancho = 8\n",
    "alto = 8\n",
    "\n",
    "gris_img = np.zeros((ancho,alto,1), dtype = np.uint8)\n",
    "\n",
    "#Bucles para pintar cuadrados en la imagen\n",
    "for i in range(0,8, 2):\n",
    "    for j in range (0, 8, 2):\n",
    "        gris_img[j,i,0] = 1\n",
    "        gris_img[j+1,i+1,0] = 1\n",
    "        \n",
    "#Muestra la imagen con matplotlib\n",
    "#Es necesario especificar que el mapa de color usado es de grises\n",
    "plt.imshow(gris_img, cmap='gray')\n",
    "plt.show()\n",
    "\n",
    "#Reestablecemos el ancho y el alto\n",
    "ancho = 200\n",
    "alto = 300"
   ]
  },
  {
   "cell_type": "markdown",
   "metadata": {},
   "source": [
    "TAREA: Crear una imagen estilo Mondrian (un ejemplo https://www3.gobiernodecanarias.org/medusa/ecoescuela/sa/2017/04/17/descubriendo-a-mondrian/ )"
   ]
  },
  {
   "cell_type": "code",
   "execution_count": 4,
   "metadata": {},
   "outputs": [
    {
     "data": {
      "image/png": "[encoded data removed]",
      "text/plain": [
       "<Figure size 640x480 with 1 Axes>"
      ]
     },
     "metadata": {},
     "output_type": "display_data"
    }
   ],
   "source": [
    "color_img = np.zeros((200,200,3), dtype = np.uint8)\n",
    "\n",
    "# cambiamos el color de la imagen a blanco\n",
    "for i in range(0, 3):\n",
    "    color_img[:, :, i] = 255\n",
    "\n",
    "#Bucles para pintar las líneas de la imagen\n",
    "for i in range(0, 200, 1):\n",
    "    for j in range(0, 200, 1):\n",
    "\n",
    "        if i == 100:\n",
    "            color_img[i, j] = 1\n",
    "        if j == 80:\n",
    "            color_img[i, j] = 1\n",
    "            \n",
    "        if i == 140 and j >= 180:\n",
    "            color_img[i,j] = 1\n",
    "        \n",
    "        if i == 180 and j >= 80 and j < 180:\n",
    "            color_img[i, j] = 1\n",
    "        if i >= 180 and j == 130:\n",
    "            color_img[i, j] = 1\n",
    "        if i >= 100 and j == 180:\n",
    "            color_img[i, j] = 1\n",
    "\n",
    "#Bucles para rellenar los bordes creados anteriormente\n",
    "for i in range(0, 200):\n",
    "    for j in range(0, 200):\n",
    "        if i < 100 and j < 80:\n",
    "            color_img[:, :, 0][i, j] = 255\n",
    "            color_img[:, :, 1][i, j] = 0\n",
    "            color_img[:, :, 2][i, j] = 0\n",
    "            \n",
    "        if i > 180 and j > 80 and j < 130:\n",
    "            color_img[:, :, 0][i, j] = 230\n",
    "            color_img[:, :, 1][i, j] = 182\n",
    "            color_img[:, :, 2][i, j] = 0\n",
    "            \n",
    "        if i > 180 and j > 130 and j < 180:\n",
    "            color_img[:, :, 0][i, j] = 0\n",
    "            color_img[:, :, 1][i, j] = 0\n",
    "            color_img[:, :, 2][i, j] = 0\n",
    "            \n",
    "        if i > 100 and i < 140 and j > 180:\n",
    "            color_img[:, :, 0][i, j] = 0\n",
    "            color_img[:, :, 1][i, j] = 50\n",
    "            color_img[:, :, 2][i, j] = 150\n",
    "\n",
    "plt.imshow(color_img)\n",
    "plt.show()"
   ]
  },
  {
   "cell_type": "markdown",
   "metadata": {},
   "source": [
    "TAREA: Resuelve una de las tareas previas (a elegir) con las funciones de dibujo de OpenCV  :)"
   ]
  },
  {
   "cell_type": "markdown",
   "metadata": {},
   "source": [
    "TAREA: Modifica de alguna forma los valores de un plano de la imagen"
   ]
  },
  {
   "cell_type": "code",
   "execution_count": 5,
   "metadata": {},
   "outputs": [],
   "source": [
    "vid = cv2.VideoCapture(0)\n",
    "  \n",
    "while(True):      \n",
    "    # fotograma a fotograma\n",
    "    ret, frame = vid.read()\n",
    "\n",
    "    if ret:\n",
    "        #Separamos canales\n",
    "        b = frame[:,:,0]\n",
    "        g = frame[:,:,1]\n",
    "        r = frame[:,:,2]\n",
    "        #Dimensiones\n",
    "        h, w, c = frame.shape\n",
    "        \n",
    "        #Modificamos el canal rojo\n",
    "        modified_r = r.copy()\n",
    "        modified_r[0:h,0:w] = 255 - r\n",
    "\n",
    "        #Posibles modificaciones para el resto de planos\n",
    "        # #Modificamos el canal verde\n",
    "        # modified_g = g.copy()\n",
    "        # modified_g[0:h,0:w] = g*g\n",
    "        \n",
    "        # #Modificamos el canal azul\n",
    "        # modified_b = g.copy()\n",
    "        # modified_b[0:h,0:w] = b*2\n",
    "                \n",
    "        #Concateamos en horizontal los tres planos del fotograma\n",
    "        collage = np.hstack((modified_r, g, b))\n",
    "    \n",
    "        # Muestra fotograma redimensionando a la mitad para que quepa en pantalla\n",
    "        cv2.imshow('Cam3', cv2.resize(collage, (int(w*1.5),int(h/2)),cv2.INTER_NEAREST))\n",
    "    \n",
    "    # Detenemos pulsado ESC\n",
    "    if cv2.waitKey(20) == 27:\n",
    "        break\n",
    "  \n",
    "# Libera el objeto de captura\n",
    "vid.release()\n",
    "# Destruye ventanas\n",
    "cv2.destroyAllWindows()"
   ]
  },
  {
   "cell_type": "markdown",
   "metadata": {},
   "source": [
    "TAREA:\n",
    "Pintar círculos en las posiciones del píxel más claro y oscuro de la imagen \n",
    "¿Si quisieras hacerlo sobre la zona 8x8 más clara/oscura?"
   ]
  },
  {
   "cell_type": "code",
   "execution_count": 8,
   "metadata": {},
   "outputs": [],
   "source": [
    "vid = cv2.VideoCapture(0)\n",
    "\n",
    "lanzado = 0\n",
    "y = 0\n",
    "x = 0\n",
    "\n",
    "  \n",
    "while(True):      \n",
    "    # fotograma a fotograma\n",
    "    ret, frame = vid.read()\n",
    "            \n",
    "    maximo = 1000\n",
    "    minimo = 0\n",
    "    h,w,c = frame.shape\n",
    "\n",
    "    r = frame[:,:,0]\n",
    "    g = frame[:,:,1]\n",
    "    b = frame[:,:,2]\n",
    "    \n",
    "    #determinar zona 8x8 mas clara y mas oscura\n",
    "    for i in range(0, h, 8):\n",
    "        for j in range (0, w, 8):\n",
    "            \n",
    "            valor_rgb = r[i:i+8,j:j+8].mean() + g[i:i+8,j:j+8].mean()+ b[i:i+8,j:j+8].mean()\n",
    "            \n",
    "            if (valor_rgb < maximo):\n",
    "                maximo = valor_rgb\n",
    "                x = j\n",
    "                y = i\n",
    "            if (valor_rgb > minimo):\n",
    "                minimo = valor_rgb\n",
    "                x2 = j\n",
    "                y2 = i\n",
    "                \n",
    "    #pintamos los circulos en las zonas indicadas\n",
    "    cv2.circle(frame, (x,y), 8 ,(52, 164, 235), -1)\n",
    "    cv2.circle(frame, (x2,y2), 8 ,(103, 230, 57), -1)\n",
    "        \n",
    "    if ret: \n",
    "        # Activa em manejador en el primer fotograma\n",
    "        if lanzado == 0:\n",
    "            # Muestra fotograma\n",
    "            cv2.imshow('Cam', frame)   \n",
    "    \n",
    "    # Detenemos pulsado ESC\n",
    "    if cv2.waitKey(10) == 27:\n",
    "        break\n",
    "  \n",
    "# Libera el objeto de captura\n",
    "vid.release()\n",
    "# Destruye ventanas\n",
    "cv2.destroyAllWindows()"
   ]
  },
  {
   "cell_type": "markdown",
   "metadata": {},
   "source": [
    "TAREA: Haz tu propuesta pop art"
   ]
  },
  {
   "cell_type": "code",
   "execution_count": 9,
   "metadata": {},
   "outputs": [],
   "source": [
    "vid = cv2.VideoCapture(0)\n",
    "\n",
    "#Dimensiones de la cámara\n",
    "w = int(vid.get(cv2.CAP_PROP_FRAME_WIDTH))\n",
    "h = int(vid.get(cv2.CAP_PROP_FRAME_HEIGHT))\n",
    "\n",
    "#Fuerzo a mitad de resolución para ocupar menos pantalla\n",
    "w=int(w/2)\n",
    "h=int(h/2)\n",
    "vid.set(cv2.CAP_PROP_FRAME_WIDTH, w)\n",
    "vid.set(cv2.CAP_PROP_FRAME_HEIGHT, h)\n",
    "\n",
    "#Imagen conjunta 2x original\n",
    "collage = np.zeros((h*2,w*2,3), dtype = np.uint8)\n",
    "tl = collage[0:h,0:w]\n",
    "tr = collage[0:h,w:w+w]\n",
    "bl = collage[h:h+h,0:w]\n",
    "br = collage[h:h+h,w:w+w]\n",
    "\n",
    "while True:      \n",
    "    # fotograma a fotograma\n",
    "    ret, frameIN = vid.read()\n",
    "\n",
    "    #Menor tamaño\n",
    "    frame = cv2.resize(frameIN, (int(w),int(h)),cv2.INTER_NEAREST)\n",
    "\n",
    "    if ret:\n",
    "        #Separamos canales\n",
    "        r = frame[:,:,2]\n",
    "        g = frame[:,:,1]\n",
    "        b = frame[:,:,0]\n",
    "\n",
    "        #Jugamos\n",
    "        tl[:,:,0] = b\n",
    "        tl[:,:,1] = g\n",
    "        tl[:,:,2] = r\n",
    "\n",
    "        tr[:,:,0] = 255 - r\n",
    "        tr[:,:,1] = 255 - g\n",
    "        tr[:,:,2] = b\n",
    "        \n",
    "        bl[:,:,0] = r\n",
    "        bl[:,:,1] = 255 - b\n",
    "        bl[:,:,2] = 255 - g\n",
    "\n",
    "        br[:,:,0] = 255 - b\n",
    "        br[:,:,1] = g\n",
    "        br[:,:,2] = 255 - r\n",
    "    \n",
    "        # Muestra composicion\n",
    "        cv2.imshow('Cam', collage)\n",
    "    \n",
    "    # Detenemos pulsado ESC\n",
    "    if cv2.waitKey(20) == 27:\n",
    "        break\n",
    "  \n",
    "# Libera el objeto de captura\n",
    "vid.release()\n",
    "# Destruye ventanas\n",
    "cv2.destroyAllWindows()"
   ]
  }
 ],
 "metadata": {
  "kernelspec": {
   "display_name": "Python 3.7.3 ('FACES')",
   "language": "python",
   "name": "python3"
  },
  "language_info": {
   "codemirror_mode": {
    "name": "ipython",
    "version": 3
   },
   "file_extension": ".py",
   "mimetype": "text/x-python",
   "name": "python",
   "nbconvert_exporter": "python",
   "pygments_lexer": "ipython3",
   "version": "3.11.5"
  },
  "orig_nbformat": 4,
  "vscode": {
   "interpreter": {
    "hash": "ea3a1ee99ce326e593ddb52cd278556d527fcb6552c40e2a47b1efb9d0183637"
   }
  }
 },
 "nbformat": 4,
 "nbformat_minor": 2
}
